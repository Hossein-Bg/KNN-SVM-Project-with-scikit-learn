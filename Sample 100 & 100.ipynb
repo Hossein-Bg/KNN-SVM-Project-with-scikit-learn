{
 "cells": [
  {
   "cell_type": "markdown",
   "id": "26329d2c",
   "metadata": {},
   "source": [
    "# Hossein Baghdadi"
   ]
  },
  {
   "cell_type": "markdown",
   "id": "cf5ff807",
   "metadata": {},
   "source": [
    "# KNN & SVM Project with scikit-learn"
   ]
  },
  {
   "cell_type": "markdown",
   "id": "dad729cc",
   "metadata": {},
   "source": [
    "# Section 2 "
   ]
  },
  {
   "cell_type": "markdown",
   "id": "4ea7ad67",
   "metadata": {},
   "source": [
    "# Tools"
   ]
  },
  {
   "cell_type": "code",
   "execution_count": 1,
   "id": "f576ab38",
   "metadata": {},
   "outputs": [],
   "source": [
    "import pandas as pd\n",
    "import numpy as np \n",
    "import matplotlib.pyplot as plt\n",
    "import random\n",
    "from sklearn.preprocessing import StandardScaler\n",
    "from sklearn.neighbors import KNeighborsClassifier\n",
    "from sklearn import svm\n",
    "from sklearn.model_selection import train_test_split\n",
    "from sklearn.metrics import accuracy_score, confusion_matrix, classification_report"
   ]
  },
  {
   "cell_type": "code",
   "execution_count": 2,
   "id": "3d27a914",
   "metadata": {},
   "outputs": [],
   "source": [
    "mean1 = np.array([2.5, 0.25])\n",
    "cov1 = np.array([[1, 0.75], [0.75, 1]])\n",
    "\n",
    "mean2 = np.array([-1.5, 0])\n",
    "cov2 = np.array([[2, 0.5], [0.5, 2]])"
   ]
  },
  {
   "cell_type": "code",
   "execution_count": 3,
   "id": "e918e47e",
   "metadata": {},
   "outputs": [
    {
     "name": "stdout",
     "output_type": "stream",
     "text": [
      "Mean for Class1 is : [2.5  0.25]\n",
      "Cov for Class1 is :\n",
      " [[1.   0.75]\n",
      " [0.75 1.  ]]\n"
     ]
    }
   ],
   "source": [
    "print('Mean for Class1 is :', mean1)\n",
    "print('Cov for Class1 is :\\n', cov1)"
   ]
  },
  {
   "cell_type": "code",
   "execution_count": 4,
   "id": "e17c9635",
   "metadata": {},
   "outputs": [
    {
     "name": "stdout",
     "output_type": "stream",
     "text": [
      "Mean for Class2 is : [-1.5  0. ]\n",
      "Cov for Class2 is :\n",
      " [[2.  0.5]\n",
      " [0.5 2. ]]\n"
     ]
    }
   ],
   "source": [
    "print('Mean for Class2 is :', mean2)\n",
    "print('Cov for Class2 is :\\n', cov2)"
   ]
  },
  {
   "cell_type": "markdown",
   "id": "60ac1a75",
   "metadata": {},
   "source": [
    "# Random Sample 100 & 100"
   ]
  },
  {
   "cell_type": "markdown",
   "id": "9249eef2",
   "metadata": {},
   "source": [
    "# Class1"
   ]
  },
  {
   "cell_type": "code",
   "execution_count": 5,
   "id": "3a89f1ae",
   "metadata": {},
   "outputs": [
    {
     "data": {
      "text/plain": [
       "array([[ 0.70840319, -1.25864293],\n",
       "       [ 0.79219906,  0.12674984],\n",
       "       [ 1.09857937, -1.84246045],\n",
       "       [ 1.66478652, -0.69223919],\n",
       "       [ 2.4513839 ,  0.49172089]])"
      ]
     },
     "execution_count": 5,
     "metadata": {},
     "output_type": "execute_result"
    }
   ],
   "source": [
    "np.random.seed(0)\n",
    "class1 = np.random.multivariate_normal(mean1, cov1, size=100)\n",
    "class1[0:5]"
   ]
  },
  {
   "cell_type": "code",
   "execution_count": 6,
   "id": "e7b612b6",
   "metadata": {},
   "outputs": [
    {
     "name": "stdout",
     "output_type": "stream",
     "text": [
      "<class 'numpy.ndarray'>\n",
      "(100, 2)\n",
      "float64\n"
     ]
    }
   ],
   "source": [
    "print(type(class1))\n",
    "print(class1.shape)\n",
    "print(class1.dtype)"
   ]
  },
  {
   "cell_type": "markdown",
   "id": "5584fc7f",
   "metadata": {},
   "source": [
    "# Visualize the data of Class1"
   ]
  },
  {
   "cell_type": "code",
   "execution_count": 7,
   "id": "6e33c1eb",
   "metadata": {},
   "outputs": [
    {
     "data": {
      "image/png": "[encoded data removed]",
      "text/plain": [
       "<Figure size 432x288 with 1 Axes>"
      ]
     },
     "metadata": {
      "needs_background": "light"
     },
     "output_type": "display_data"
    }
   ],
   "source": [
    "plt.plot(class1[:, 0], class1[:, 1], '.', alpha=0.5)\n",
    "plt.axis('equal')\n",
    "plt.grid()\n",
    "plt.show()"
   ]
  },
  {
   "cell_type": "markdown",
   "id": "9d176e0d",
   "metadata": {},
   "source": [
    "# Class2"
   ]
  },
  {
   "cell_type": "code",
   "execution_count": 8,
   "id": "88a52d2d",
   "metadata": {},
   "outputs": [
    {
     "data": {
      "text/plain": [
       "array([[-3.81881679, -1.62572417],\n",
       "       [-4.53493277,  0.84640811],\n",
       "       [-2.74164584, -2.93434078],\n",
       "       [-2.43115196, -1.19331033],\n",
       "       [-1.74018655,  0.47099092]])"
      ]
     },
     "execution_count": 8,
     "metadata": {},
     "output_type": "execute_result"
    }
   ],
   "source": [
    "np.random.seed(0)\n",
    "class2 = np.random.multivariate_normal(mean2, cov2, size=100)\n",
    "class2[0:5]"
   ]
  },
  {
   "cell_type": "code",
   "execution_count": 9,
   "id": "95b22a43",
   "metadata": {},
   "outputs": [
    {
     "name": "stdout",
     "output_type": "stream",
     "text": [
      "<class 'numpy.ndarray'>\n",
      "(100, 2)\n",
      "float64\n"
     ]
    }
   ],
   "source": [
    "print(type(class2))\n",
    "print(class2.shape)\n",
    "print(class2.dtype)"
   ]
  },
  {
   "cell_type": "markdown",
   "id": "ab944cb9",
   "metadata": {},
   "source": [
    "# Visualize the data of Class2"
   ]
  },
  {
   "cell_type": "code",
   "execution_count": 10,
   "id": "868d4d63",
   "metadata": {},
   "outputs": [
    {
     "data": {
      "image/png": "[encoded data removed]",
      "text/plain": [
       "<Figure size 432x288 with 1 Axes>"
      ]
     },
     "metadata": {
      "needs_background": "light"
     },
     "output_type": "display_data"
    }
   ],
   "source": [
    "plt.plot(class2[:, 0], class2[:, 1], '.', alpha=0.5)\n",
    "plt.axis('equal')\n",
    "plt.grid()\n",
    "plt.show()"
   ]
  },
  {
   "cell_type": "markdown",
   "id": "652e71d3",
   "metadata": {},
   "source": [
    "# Visualize the data of Classes"
   ]
  },
  {
   "cell_type": "code",
   "execution_count": 11,
   "id": "b198c714",
   "metadata": {},
   "outputs": [
    {
     "data": {
      "image/png": "[encoded data removed]",
      "text/plain": [
       "<Figure size 432x288 with 1 Axes>"
      ]
     },
     "metadata": {
      "needs_background": "light"
     },
     "output_type": "display_data"
    }
   ],
   "source": [
    "plt.plot(class1[:, 0], class1[:, 1], '.', alpha=0.5)\n",
    "plt.plot(class2[:, 0], class2[:, 1], '.', alpha=0.5)\n",
    "plt.axis('equal')\n",
    "plt.grid()\n",
    "plt.show()"
   ]
  },
  {
   "cell_type": "markdown",
   "id": "07e5c4c1",
   "metadata": {},
   "source": [
    "# DataFrame for Class1"
   ]
  },
  {
   "cell_type": "code",
   "execution_count": 12,
   "id": "8838fa06",
   "metadata": {},
   "outputs": [
    {
     "data": {
      "text/html": [
       "<div>\n",
       "<style scoped>\n",
       "    .dataframe tbody tr th:only-of-type {\n",
       "        vertical-align: middle;\n",
       "    }\n",
       "\n",
       "    .dataframe tbody tr th {\n",
       "        vertical-align: top;\n",
       "    }\n",
       "\n",
       "    .dataframe thead th {\n",
       "        text-align: right;\n",
       "    }\n",
       "</style>\n",
       "<table border=\"1\" class=\"dataframe\">\n",
       "  <thead>\n",
       "    <tr style=\"text-align: right;\">\n",
       "      <th></th>\n",
       "      <th>Feature1</th>\n",
       "      <th>Feature2</th>\n",
       "    </tr>\n",
       "  </thead>\n",
       "  <tbody>\n",
       "    <tr>\n",
       "      <th>0</th>\n",
       "      <td>0.708403</td>\n",
       "      <td>-1.258643</td>\n",
       "    </tr>\n",
       "    <tr>\n",
       "      <th>1</th>\n",
       "      <td>0.792199</td>\n",
       "      <td>0.126750</td>\n",
       "    </tr>\n",
       "    <tr>\n",
       "      <th>2</th>\n",
       "      <td>1.098579</td>\n",
       "      <td>-1.842460</td>\n",
       "    </tr>\n",
       "    <tr>\n",
       "      <th>3</th>\n",
       "      <td>1.664787</td>\n",
       "      <td>-0.692239</td>\n",
       "    </tr>\n",
       "    <tr>\n",
       "      <th>4</th>\n",
       "      <td>2.451384</td>\n",
       "      <td>0.491721</td>\n",
       "    </tr>\n",
       "  </tbody>\n",
       "</table>\n",
       "</div>"
      ],
      "text/plain": [
       "   Feature1  Feature2\n",
       "0  0.708403 -1.258643\n",
       "1  0.792199  0.126750\n",
       "2  1.098579 -1.842460\n",
       "3  1.664787 -0.692239\n",
       "4  2.451384  0.491721"
      ]
     },
     "execution_count": 12,
     "metadata": {},
     "output_type": "execute_result"
    }
   ],
   "source": [
    "df1 = pd.DataFrame(data=class1, columns=['Feature1', 'Feature2'])\n",
    "df1.head()"
   ]
  },
  {
   "cell_type": "code",
   "execution_count": 13,
   "id": "44b524cc",
   "metadata": {},
   "outputs": [],
   "source": [
    "df1['Target'] = 0"
   ]
  },
  {
   "cell_type": "markdown",
   "id": "90143307",
   "metadata": {},
   "source": [
    "# DataFrame for Class2"
   ]
  },
  {
   "cell_type": "code",
   "execution_count": 14,
   "id": "519522e7",
   "metadata": {},
   "outputs": [
    {
     "data": {
      "text/html": [
       "<div>\n",
       "<style scoped>\n",
       "    .dataframe tbody tr th:only-of-type {\n",
       "        vertical-align: middle;\n",
       "    }\n",
       "\n",
       "    .dataframe tbody tr th {\n",
       "        vertical-align: top;\n",
       "    }\n",
       "\n",
       "    .dataframe thead th {\n",
       "        text-align: right;\n",
       "    }\n",
       "</style>\n",
       "<table border=\"1\" class=\"dataframe\">\n",
       "  <thead>\n",
       "    <tr style=\"text-align: right;\">\n",
       "      <th></th>\n",
       "      <th>Feature1</th>\n",
       "      <th>Feature2</th>\n",
       "    </tr>\n",
       "  </thead>\n",
       "  <tbody>\n",
       "    <tr>\n",
       "      <th>0</th>\n",
       "      <td>-3.818817</td>\n",
       "      <td>-1.625724</td>\n",
       "    </tr>\n",
       "    <tr>\n",
       "      <th>1</th>\n",
       "      <td>-4.534933</td>\n",
       "      <td>0.846408</td>\n",
       "    </tr>\n",
       "    <tr>\n",
       "      <th>2</th>\n",
       "      <td>-2.741646</td>\n",
       "      <td>-2.934341</td>\n",
       "    </tr>\n",
       "    <tr>\n",
       "      <th>3</th>\n",
       "      <td>-2.431152</td>\n",
       "      <td>-1.193310</td>\n",
       "    </tr>\n",
       "    <tr>\n",
       "      <th>4</th>\n",
       "      <td>-1.740187</td>\n",
       "      <td>0.470991</td>\n",
       "    </tr>\n",
       "  </tbody>\n",
       "</table>\n",
       "</div>"
      ],
      "text/plain": [
       "   Feature1  Feature2\n",
       "0 -3.818817 -1.625724\n",
       "1 -4.534933  0.846408\n",
       "2 -2.741646 -2.934341\n",
       "3 -2.431152 -1.193310\n",
       "4 -1.740187  0.470991"
      ]
     },
     "execution_count": 14,
     "metadata": {},
     "output_type": "execute_result"
    }
   ],
   "source": [
    "df2 = pd.DataFrame(data=class2, columns=['Feature1', 'Feature2'])\n",
    "df2.head()"
   ]
  },
  {
   "cell_type": "code",
   "execution_count": 15,
   "id": "25dd4d3e",
   "metadata": {},
   "outputs": [],
   "source": [
    "df2['Target'] = 1"
   ]
  },
  {
   "cell_type": "markdown",
   "id": "a6538de2",
   "metadata": {},
   "source": [
    "# Our Final Dataset"
   ]
  },
  {
   "cell_type": "code",
   "execution_count": 16,
   "id": "98c5756b",
   "metadata": {},
   "outputs": [
    {
     "data": {
      "text/html": [
       "<div>\n",
       "<style scoped>\n",
       "    .dataframe tbody tr th:only-of-type {\n",
       "        vertical-align: middle;\n",
       "    }\n",
       "\n",
       "    .dataframe tbody tr th {\n",
       "        vertical-align: top;\n",
       "    }\n",
       "\n",
       "    .dataframe thead th {\n",
       "        text-align: right;\n",
       "    }\n",
       "</style>\n",
       "<table border=\"1\" class=\"dataframe\">\n",
       "  <thead>\n",
       "    <tr style=\"text-align: right;\">\n",
       "      <th></th>\n",
       "      <th>Feature1</th>\n",
       "      <th>Feature2</th>\n",
       "      <th>Target</th>\n",
       "    </tr>\n",
       "  </thead>\n",
       "  <tbody>\n",
       "    <tr>\n",
       "      <th>0</th>\n",
       "      <td>0.708403</td>\n",
       "      <td>-1.258643</td>\n",
       "      <td>0</td>\n",
       "    </tr>\n",
       "    <tr>\n",
       "      <th>1</th>\n",
       "      <td>0.792199</td>\n",
       "      <td>0.126750</td>\n",
       "      <td>0</td>\n",
       "    </tr>\n",
       "    <tr>\n",
       "      <th>2</th>\n",
       "      <td>1.098579</td>\n",
       "      <td>-1.842460</td>\n",
       "      <td>0</td>\n",
       "    </tr>\n",
       "    <tr>\n",
       "      <th>3</th>\n",
       "      <td>1.664787</td>\n",
       "      <td>-0.692239</td>\n",
       "      <td>0</td>\n",
       "    </tr>\n",
       "    <tr>\n",
       "      <th>4</th>\n",
       "      <td>2.451384</td>\n",
       "      <td>0.491721</td>\n",
       "      <td>0</td>\n",
       "    </tr>\n",
       "  </tbody>\n",
       "</table>\n",
       "</div>"
      ],
      "text/plain": [
       "   Feature1  Feature2  Target\n",
       "0  0.708403 -1.258643       0\n",
       "1  0.792199  0.126750       0\n",
       "2  1.098579 -1.842460       0\n",
       "3  1.664787 -0.692239       0\n",
       "4  2.451384  0.491721       0"
      ]
     },
     "execution_count": 16,
     "metadata": {},
     "output_type": "execute_result"
    }
   ],
   "source": [
    "df = pd.concat([df1, df2])\n",
    "df.head()"
   ]
  },
  {
   "cell_type": "code",
   "execution_count": 17,
   "id": "9b784b1f",
   "metadata": {},
   "outputs": [
    {
     "data": {
      "image/png": "[encoded data removed]",
      "text/plain": [
       "<Figure size 432x288 with 1 Axes>"
      ]
     },
     "metadata": {
      "needs_background": "light"
     },
     "output_type": "display_data"
    }
   ],
   "source": [
    "plt.hist(df['Target'], bins='auto', edgecolor='black')\n",
    "plt.xlabel('Target')\n",
    "plt.ylabel('No')\n",
    "plt.grid()\n",
    "plt.show()"
   ]
  },
  {
   "cell_type": "markdown",
   "id": "28d374db",
   "metadata": {},
   "source": [
    "# Feature Set"
   ]
  },
  {
   "cell_type": "code",
   "execution_count": 18,
   "id": "40b9c591",
   "metadata": {},
   "outputs": [
    {
     "data": {
      "text/plain": [
       "Index(['Feature1', 'Feature2', 'Target'], dtype='object')"
      ]
     },
     "execution_count": 18,
     "metadata": {},
     "output_type": "execute_result"
    }
   ],
   "source": [
    "df.columns"
   ]
  },
  {
   "cell_type": "code",
   "execution_count": 19,
   "id": "38864820",
   "metadata": {},
   "outputs": [
    {
     "data": {
      "text/plain": [
       "array([[ 0.70840319, -1.25864293],\n",
       "       [ 0.79219906,  0.12674984],\n",
       "       [ 1.09857937, -1.84246045],\n",
       "       [ 1.66478652, -0.69223919],\n",
       "       [ 2.4513839 ,  0.49172089]])"
      ]
     },
     "execution_count": 19,
     "metadata": {},
     "output_type": "execute_result"
    }
   ],
   "source": [
    "X = df[['Feature1', 'Feature2']].values\n",
    "X[0:5]"
   ]
  },
  {
   "cell_type": "code",
   "execution_count": 20,
   "id": "113898cf",
   "metadata": {},
   "outputs": [
    {
     "data": {
      "text/plain": [
       "array([0, 0, 0, 0, 0], dtype=int64)"
      ]
     },
     "execution_count": 20,
     "metadata": {},
     "output_type": "execute_result"
    }
   ],
   "source": [
    "y = df['Target'].values\n",
    "y[0:5]"
   ]
  },
  {
   "cell_type": "markdown",
   "id": "1b5c3323",
   "metadata": {},
   "source": [
    "# Preprocessing"
   ]
  },
  {
   "cell_type": "code",
   "execution_count": 21,
   "id": "f5a0cab9",
   "metadata": {},
   "outputs": [
    {
     "data": {
      "text/plain": [
       "array([[ 0.12360583, -1.16300414],\n",
       "       [ 0.15877796, -0.06819729],\n",
       "       [ 0.28737675, -1.62436602],\n",
       "       [ 0.52503417, -0.7154035 ],\n",
       "       [ 0.85519727,  0.22022114]])"
      ]
     },
     "execution_count": 21,
     "metadata": {},
     "output_type": "execute_result"
    }
   ],
   "source": [
    "scaler = StandardScaler().fit(X)\n",
    "X = scaler.transform(X.astype(float))\n",
    "X[0:5]"
   ]
  },
  {
   "cell_type": "markdown",
   "id": "ab8fde5e",
   "metadata": {},
   "source": [
    "# Train & Test Set"
   ]
  },
  {
   "cell_type": "code",
   "execution_count": 22,
   "id": "62fd83a5",
   "metadata": {},
   "outputs": [
    {
     "name": "stdout",
     "output_type": "stream",
     "text": [
      "Train set: (160, 2) (160,)\n",
      "Test set: (40, 2) (40,)\n"
     ]
    }
   ],
   "source": [
    "X_train, X_test, y_train, y_test = train_test_split(X, y, test_size=0.2, random_state=1)\n",
    "print('Train set:', X_train.shape, y_train.shape)\n",
    "print('Test set:', X_test.shape, y_test.shape)"
   ]
  },
  {
   "cell_type": "markdown",
   "id": "e5cd1d1f",
   "metadata": {},
   "source": [
    "# KNN Classifier"
   ]
  },
  {
   "cell_type": "markdown",
   "id": "befa8f15",
   "metadata": {},
   "source": [
    "# Accuracy"
   ]
  },
  {
   "cell_type": "code",
   "execution_count": 23,
   "id": "8f37e28a",
   "metadata": {},
   "outputs": [
    {
     "data": {
      "text/plain": [
       "array([ 97.5,  97.5,  97.5, 100. ,  97.5, 100. , 100. , 100. , 100. ])"
      ]
     },
     "execution_count": 23,
     "metadata": {},
     "output_type": "execute_result"
    }
   ],
   "source": [
    "Ks = 10\n",
    "mean_acc = np.zeros(Ks-1)\n",
    "std_acc = np.zeros(Ks-1)\n",
    "\n",
    "for i in range(1, Ks):\n",
    "    model = KNeighborsClassifier(n_neighbors=i).fit(X_train, y_train)\n",
    "    ypred = model.predict(X_test)\n",
    "    mean_acc[i-1] = accuracy_score(y_test, ypred) * 100\n",
    "    \n",
    "    std_acc[i-1] = np.std(ypred==y_test)/np.sqrt(ypred.shape[0])\n",
    "\n",
    "mean_acc"
   ]
  },
  {
   "cell_type": "code",
   "execution_count": 24,
   "id": "3ffb3f7c",
   "metadata": {},
   "outputs": [
    {
     "name": "stdout",
     "output_type": "stream",
     "text": [
      "The best accuracy is : 100.0 with k : 4\n"
     ]
    }
   ],
   "source": [
    "print('The best accuracy is :', mean_acc.max(), 'with k :', mean_acc.argmax()+1)"
   ]
  },
  {
   "cell_type": "code",
   "execution_count": 25,
   "id": "afdca438",
   "metadata": {},
   "outputs": [
    {
     "data": {
      "image/png": "[encoded data removed]",
      "text/plain": [
       "<Figure size 432x288 with 1 Axes>"
      ]
     },
     "metadata": {
      "needs_background": "light"
     },
     "output_type": "display_data"
    }
   ],
   "source": [
    "plt.plot(range(1,Ks),mean_acc,'g')\n",
    "plt.fill_between(range(1,Ks),mean_acc - 1 * std_acc,mean_acc + 1 * std_acc, alpha=0.10)\n",
    "plt.fill_between(range(1,Ks),mean_acc - 3 * std_acc,mean_acc + 3 * std_acc, alpha=0.10,color=\"green\")\n",
    "plt.legend(('Accuracy ', '+/- 1xstd','+/- 3xstd'))\n",
    "plt.ylabel('Accuracy ')\n",
    "plt.xlabel('Number of Neighbors (K)')\n",
    "plt.tight_layout()\n",
    "plt.show()"
   ]
  },
  {
   "cell_type": "markdown",
   "id": "78b24488",
   "metadata": {},
   "source": [
    "# Confusion Matrix"
   ]
  },
  {
   "cell_type": "code",
   "execution_count": 26,
   "id": "2cdd5bf6",
   "metadata": {},
   "outputs": [
    {
     "data": {
      "text/plain": [
       "array([[23,  0],\n",
       "       [ 0, 17]], dtype=int64)"
      ]
     },
     "execution_count": 26,
     "metadata": {},
     "output_type": "execute_result"
    }
   ],
   "source": [
    "c = confusion_matrix(y_test, ypred)\n",
    "c"
   ]
  },
  {
   "cell_type": "markdown",
   "id": "97605c05",
   "metadata": {},
   "source": [
    "# Classification Report"
   ]
  },
  {
   "cell_type": "markdown",
   "id": "fa0c3753",
   "metadata": {},
   "source": [
    "# F1-score"
   ]
  },
  {
   "cell_type": "code",
   "execution_count": 27,
   "id": "3d5a67e2",
   "metadata": {},
   "outputs": [
    {
     "name": "stdout",
     "output_type": "stream",
     "text": [
      "              precision    recall  f1-score   support\n",
      "\n",
      "           0       1.00      1.00      1.00        23\n",
      "           1       1.00      1.00      1.00        17\n",
      "\n",
      "    accuracy                           1.00        40\n",
      "   macro avg       1.00      1.00      1.00        40\n",
      "weighted avg       1.00      1.00      1.00        40\n",
      "\n"
     ]
    }
   ],
   "source": [
    "rp = classification_report(y_test, ypred)\n",
    "print(rp)"
   ]
  },
  {
   "cell_type": "markdown",
   "id": "bf86e8b2",
   "metadata": {},
   "source": [
    "# SVM Classifier"
   ]
  },
  {
   "cell_type": "code",
   "execution_count": 28,
   "id": "4f3f6d19",
   "metadata": {},
   "outputs": [
    {
     "data": {
      "text/plain": [
       "SVC()"
      ]
     },
     "execution_count": 28,
     "metadata": {},
     "output_type": "execute_result"
    }
   ],
   "source": [
    "clf = svm.SVC(kernel='rbf')         # Radial basis function \n",
    "clf = clf.fit(X_train, y_train)\n",
    "clf"
   ]
  },
  {
   "cell_type": "code",
   "execution_count": 29,
   "id": "2df58d7c",
   "metadata": {},
   "outputs": [
    {
     "name": "stdout",
     "output_type": "stream",
     "text": [
      "[0 0 0 1 1]\n",
      "[0 0 0 1 1]\n"
     ]
    }
   ],
   "source": [
    "yhat = clf.predict(X_test)\n",
    "print(yhat[0:5])\n",
    "print(y_test[0:5])"
   ]
  },
  {
   "cell_type": "markdown",
   "id": "cc646055",
   "metadata": {},
   "source": [
    "# Accuracy"
   ]
  },
  {
   "cell_type": "code",
   "execution_count": 30,
   "id": "a6c79b03",
   "metadata": {},
   "outputs": [
    {
     "name": "stdout",
     "output_type": "stream",
     "text": [
      "Train Set Accuracy is : 94.375\n",
      "Test Set Accuracy is : 100.0\n"
     ]
    }
   ],
   "source": [
    "print('Train Set Accuracy is :', accuracy_score(y_train, clf.predict(X_train)) * 100)\n",
    "print('Test Set Accuracy is :', accuracy_score(y_test, yhat) * 100)"
   ]
  },
  {
   "cell_type": "markdown",
   "id": "8ac80839",
   "metadata": {},
   "source": [
    "# Confusion Matrix"
   ]
  },
  {
   "cell_type": "code",
   "execution_count": 31,
   "id": "c1b9f9d3",
   "metadata": {},
   "outputs": [
    {
     "data": {
      "text/plain": [
       "array([[23,  0],\n",
       "       [ 0, 17]], dtype=int64)"
      ]
     },
     "execution_count": 31,
     "metadata": {},
     "output_type": "execute_result"
    }
   ],
   "source": [
    "confusion_matrix(y_test, yhat, labels=[0, 1])"
   ]
  },
  {
   "cell_type": "markdown",
   "id": "873a7c3e",
   "metadata": {},
   "source": [
    "# Classification Report"
   ]
  },
  {
   "cell_type": "markdown",
   "id": "f746ed89",
   "metadata": {},
   "source": [
    "# F1-score"
   ]
  },
  {
   "cell_type": "code",
   "execution_count": 32,
   "id": "07743cdc",
   "metadata": {},
   "outputs": [
    {
     "name": "stdout",
     "output_type": "stream",
     "text": [
      "              precision    recall  f1-score   support\n",
      "\n",
      "           0       1.00      1.00      1.00        23\n",
      "           1       1.00      1.00      1.00        17\n",
      "\n",
      "    accuracy                           1.00        40\n",
      "   macro avg       1.00      1.00      1.00        40\n",
      "weighted avg       1.00      1.00      1.00        40\n",
      "\n"
     ]
    }
   ],
   "source": [
    "rp = classification_report(y_test, ypred)\n",
    "print(rp)"
   ]
  },
  {
   "cell_type": "code",
   "execution_count": null,
   "id": "8923b4c4",
   "metadata": {},
   "outputs": [],
   "source": []
  }
 ],
 "metadata": {
  "kernelspec": {
   "display_name": "Python 3 (ipykernel)",
   "language": "python",
   "name": "python3"
  },
  "language_info": {
   "codemirror_mode": {
    "name": "ipython",
    "version": 3
   },
   "file_extension": ".py",
   "mimetype": "text/x-python",
   "name": "python",
   "nbconvert_exporter": "python",
   "pygments_lexer": "ipython3",
   "version": "3.8.8"
  }
 },
 "nbformat": 4,
 "nbformat_minor": 5
}
