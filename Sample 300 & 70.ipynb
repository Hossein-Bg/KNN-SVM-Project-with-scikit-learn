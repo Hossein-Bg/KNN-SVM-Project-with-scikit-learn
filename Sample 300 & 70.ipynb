{
 "cells": [
  {
   "cell_type": "markdown",
   "id": "23871cf6",
   "metadata": {},
   "source": [
    "# Hossein Baghdadi\n",
    "# KNN & SVM Project with scikit-learn"
   ]
  },
  {
   "cell_type": "markdown",
   "id": "ae028aab",
   "metadata": {},
   "source": [
    "# Section 1"
   ]
  },
  {
   "cell_type": "markdown",
   "id": "e57cb437",
   "metadata": {},
   "source": [
    "# Tools"
   ]
  },
  {
   "cell_type": "code",
   "execution_count": 1,
   "id": "ed59d2b2",
   "metadata": {},
   "outputs": [],
   "source": [
    "import pandas as pd\n",
    "import numpy as np \n",
    "import matplotlib.pyplot as plt\n",
    "import random\n",
    "from sklearn.preprocessing import StandardScaler\n",
    "from sklearn.neighbors import KNeighborsClassifier\n",
    "from sklearn import svm\n",
    "from sklearn.model_selection import train_test_split\n",
    "from sklearn.metrics import accuracy_score, confusion_matrix, classification_report"
   ]
  },
  {
   "cell_type": "markdown",
   "id": "68edb636",
   "metadata": {},
   "source": [
    "# Mean & Cov of each class"
   ]
  },
  {
   "cell_type": "code",
   "execution_count": 2,
   "id": "c4630fe5",
   "metadata": {},
   "outputs": [],
   "source": [
    "mean1 = np.array([2.5, 0.25])\n",
    "cov1 = np.array([[1, 0.75], [0.75, 1]])\n",
    "\n",
    "mean2 = np.array([-1.5, 0])\n",
    "cov2 = np.array([[2, 0.5], [0.5, 2]])"
   ]
  },
  {
   "cell_type": "code",
   "execution_count": 3,
   "id": "127b3c60",
   "metadata": {},
   "outputs": [
    {
     "name": "stdout",
     "output_type": "stream",
     "text": [
      "Mean for Class1 is : [2.5  0.25]\n",
      "Cov for Class1 is :\n",
      " [[1.   0.75]\n",
      " [0.75 1.  ]]\n"
     ]
    }
   ],
   "source": [
    "print('Mean for Class1 is :', mean1)\n",
    "print('Cov for Class1 is :\\n', cov1)"
   ]
  },
  {
   "cell_type": "code",
   "execution_count": 4,
   "id": "d05e1135",
   "metadata": {},
   "outputs": [
    {
     "name": "stdout",
     "output_type": "stream",
     "text": [
      "Mean for Class2 is : [-1.5  0. ]\n",
      "Cov for Class2 is :\n",
      " [[2.  0.5]\n",
      " [0.5 2. ]]\n"
     ]
    }
   ],
   "source": [
    "print('Mean for Class2 is :', mean2)\n",
    "print('Cov for Class2 is :\\n', cov2)"
   ]
  },
  {
   "cell_type": "markdown",
   "id": "e6dede0d",
   "metadata": {},
   "source": [
    "#                                        Random Sample 70 & 300"
   ]
  },
  {
   "cell_type": "markdown",
   "id": "48a87462",
   "metadata": {},
   "source": [
    "# Class1"
   ]
  },
  {
   "cell_type": "code",
   "execution_count": 5,
   "id": "ee26261c",
   "metadata": {},
   "outputs": [
    {
     "data": {
      "text/plain": [
       "array([[ 1.1968526 , -1.48572451],\n",
       "       [ 3.37341113,  0.36470774],\n",
       "       [ 2.5042021 , -1.37323152],\n",
       "       [ 1.13700532, -1.65124924],\n",
       "       [ 2.28973199, -0.13659949]])"
      ]
     },
     "execution_count": 5,
     "metadata": {},
     "output_type": "execute_result"
    }
   ],
   "source": [
    "np.random.seed(1)\n",
    "class1 = np.random.multivariate_normal(mean1, cov1, size=70)\n",
    "class1[0:5]"
   ]
  },
  {
   "cell_type": "code",
   "execution_count": 6,
   "id": "5ace6f80",
   "metadata": {},
   "outputs": [
    {
     "name": "stdout",
     "output_type": "stream",
     "text": [
      "<class 'numpy.ndarray'>\n",
      "(70, 2)\n",
      "float64\n"
     ]
    }
   ],
   "source": [
    "print(type(class1))\n",
    "print(class1.shape)\n",
    "print(class1.dtype)"
   ]
  },
  {
   "cell_type": "markdown",
   "id": "87c89945",
   "metadata": {},
   "source": [
    "# Visualize the data of Class1"
   ]
  },
  {
   "cell_type": "code",
   "execution_count": 7,
   "id": "69d701e4",
   "metadata": {},
   "outputs": [
    {
     "data": {
      "image/png": "[encoded data removed]",
      "text/plain": [
       "<Figure size 432x288 with 1 Axes>"
      ]
     },
     "metadata": {
      "needs_background": "light"
     },
     "output_type": "display_data"
    }
   ],
   "source": [
    "plt.plot(class1[:, 0], class1[:, 1], '.', alpha=0.5)\n",
    "plt.axis('equal')\n",
    "plt.grid()\n",
    "plt.show()"
   ]
  },
  {
   "cell_type": "markdown",
   "id": "e2793877",
   "metadata": {},
   "source": [
    "# Class2"
   ]
  },
  {
   "cell_type": "code",
   "execution_count": 8,
   "id": "37f600af",
   "metadata": {},
   "outputs": [
    {
     "name": "stdout",
     "output_type": "stream",
     "text": [
      "[[-2.78627673 -2.34586992]\n",
      " [ 0.01973206 -0.33870411]\n",
      " [-0.47436416 -2.96074612]\n",
      " [-2.79153434 -2.60998337]\n",
      " [-1.64073547 -0.57265763]]\n"
     ]
    }
   ],
   "source": [
    "np.random.seed(1)\n",
    "class2 = np.random.multivariate_normal(mean2, cov2, size=300)\n",
    "random.seed(1)\n",
    "print(class2[0:5])"
   ]
  },
  {
   "cell_type": "code",
   "execution_count": 9,
   "id": "f6d1a35b",
   "metadata": {},
   "outputs": [
    {
     "name": "stdout",
     "output_type": "stream",
     "text": [
      "<class 'numpy.ndarray'>\n",
      "(300, 2)\n",
      "float64\n"
     ]
    }
   ],
   "source": [
    "print(type(class2))\n",
    "print(class2.shape)\n",
    "print(class2.dtype)"
   ]
  },
  {
   "cell_type": "markdown",
   "id": "aba8b9a3",
   "metadata": {},
   "source": [
    "# Visualize the data of Class2"
   ]
  },
  {
   "cell_type": "code",
   "execution_count": 10,
   "id": "e2bb32a6",
   "metadata": {},
   "outputs": [
    {
     "data": {
      "image/png": "[encoded data removed]",
      "text/plain": [
       "<Figure size 432x288 with 1 Axes>"
      ]
     },
     "metadata": {
      "needs_background": "light"
     },
     "output_type": "display_data"
    }
   ],
   "source": [
    "plt.plot(class2[:, 0], class2[:, 1], '.', alpha=0.5)\n",
    "plt.axis('equal')\n",
    "plt.grid()\n",
    "plt.show()"
   ]
  },
  {
   "cell_type": "markdown",
   "id": "e1b9229a",
   "metadata": {},
   "source": [
    "# Visualize the data of Classes"
   ]
  },
  {
   "cell_type": "code",
   "execution_count": 11,
   "id": "7eeb5b2f",
   "metadata": {},
   "outputs": [
    {
     "data": {
      "image/png": "[encoded data removed]",
      "text/plain": [
       "<Figure size 432x288 with 1 Axes>"
      ]
     },
     "metadata": {
      "needs_background": "light"
     },
     "output_type": "display_data"
    }
   ],
   "source": [
    "plt.plot(class1[:, 0], class1[:, 1], '.', alpha=0.5)\n",
    "plt.plot(class2[:, 0], class2[:, 1], '.', alpha=0.5)\n",
    "plt.axis('equal')\n",
    "plt.grid()\n",
    "plt.show()"
   ]
  },
  {
   "cell_type": "markdown",
   "id": "4a7e01e1",
   "metadata": {},
   "source": [
    "# DataFrame for Class1"
   ]
  },
  {
   "cell_type": "code",
   "execution_count": 12,
   "id": "6d851fff",
   "metadata": {},
   "outputs": [
    {
     "data": {
      "text/html": [
       "<div>\n",
       "<style scoped>\n",
       "    .dataframe tbody tr th:only-of-type {\n",
       "        vertical-align: middle;\n",
       "    }\n",
       "\n",
       "    .dataframe tbody tr th {\n",
       "        vertical-align: top;\n",
       "    }\n",
       "\n",
       "    .dataframe thead th {\n",
       "        text-align: right;\n",
       "    }\n",
       "</style>\n",
       "<table border=\"1\" class=\"dataframe\">\n",
       "  <thead>\n",
       "    <tr style=\"text-align: right;\">\n",
       "      <th></th>\n",
       "      <th>Feature1</th>\n",
       "      <th>Feature2</th>\n",
       "    </tr>\n",
       "  </thead>\n",
       "  <tbody>\n",
       "    <tr>\n",
       "      <th>0</th>\n",
       "      <td>1.196853</td>\n",
       "      <td>-1.485725</td>\n",
       "    </tr>\n",
       "    <tr>\n",
       "      <th>1</th>\n",
       "      <td>3.373411</td>\n",
       "      <td>0.364708</td>\n",
       "    </tr>\n",
       "    <tr>\n",
       "      <th>2</th>\n",
       "      <td>2.504202</td>\n",
       "      <td>-1.373232</td>\n",
       "    </tr>\n",
       "    <tr>\n",
       "      <th>3</th>\n",
       "      <td>1.137005</td>\n",
       "      <td>-1.651249</td>\n",
       "    </tr>\n",
       "    <tr>\n",
       "      <th>4</th>\n",
       "      <td>2.289732</td>\n",
       "      <td>-0.136599</td>\n",
       "    </tr>\n",
       "  </tbody>\n",
       "</table>\n",
       "</div>"
      ],
      "text/plain": [
       "   Feature1  Feature2\n",
       "0  1.196853 -1.485725\n",
       "1  3.373411  0.364708\n",
       "2  2.504202 -1.373232\n",
       "3  1.137005 -1.651249\n",
       "4  2.289732 -0.136599"
      ]
     },
     "execution_count": 12,
     "metadata": {},
     "output_type": "execute_result"
    }
   ],
   "source": [
    "df1 = pd.DataFrame(data=class1, columns=['Feature1', 'Feature2'])\n",
    "df1.head()"
   ]
  },
  {
   "cell_type": "code",
   "execution_count": 13,
   "id": "3ef66968",
   "metadata": {},
   "outputs": [],
   "source": [
    "df1['Target'] = 0"
   ]
  },
  {
   "cell_type": "markdown",
   "id": "b0f43598",
   "metadata": {},
   "source": [
    "# DataFrame for Class2"
   ]
  },
  {
   "cell_type": "code",
   "execution_count": 14,
   "id": "7ab6d01c",
   "metadata": {},
   "outputs": [
    {
     "data": {
      "text/html": [
       "<div>\n",
       "<style scoped>\n",
       "    .dataframe tbody tr th:only-of-type {\n",
       "        vertical-align: middle;\n",
       "    }\n",
       "\n",
       "    .dataframe tbody tr th {\n",
       "        vertical-align: top;\n",
       "    }\n",
       "\n",
       "    .dataframe thead th {\n",
       "        text-align: right;\n",
       "    }\n",
       "</style>\n",
       "<table border=\"1\" class=\"dataframe\">\n",
       "  <thead>\n",
       "    <tr style=\"text-align: right;\">\n",
       "      <th></th>\n",
       "      <th>Feature1</th>\n",
       "      <th>Feature2</th>\n",
       "    </tr>\n",
       "  </thead>\n",
       "  <tbody>\n",
       "    <tr>\n",
       "      <th>0</th>\n",
       "      <td>-2.786277</td>\n",
       "      <td>-2.345870</td>\n",
       "    </tr>\n",
       "    <tr>\n",
       "      <th>1</th>\n",
       "      <td>0.019732</td>\n",
       "      <td>-0.338704</td>\n",
       "    </tr>\n",
       "    <tr>\n",
       "      <th>2</th>\n",
       "      <td>-0.474364</td>\n",
       "      <td>-2.960746</td>\n",
       "    </tr>\n",
       "    <tr>\n",
       "      <th>3</th>\n",
       "      <td>-2.791534</td>\n",
       "      <td>-2.609983</td>\n",
       "    </tr>\n",
       "    <tr>\n",
       "      <th>4</th>\n",
       "      <td>-1.640735</td>\n",
       "      <td>-0.572658</td>\n",
       "    </tr>\n",
       "  </tbody>\n",
       "</table>\n",
       "</div>"
      ],
      "text/plain": [
       "   Feature1  Feature2\n",
       "0 -2.786277 -2.345870\n",
       "1  0.019732 -0.338704\n",
       "2 -0.474364 -2.960746\n",
       "3 -2.791534 -2.609983\n",
       "4 -1.640735 -0.572658"
      ]
     },
     "execution_count": 14,
     "metadata": {},
     "output_type": "execute_result"
    }
   ],
   "source": [
    "df2 = pd.DataFrame(data=class2, columns=['Feature1', 'Feature2'])\n",
    "df2.head()"
   ]
  },
  {
   "cell_type": "code",
   "execution_count": 15,
   "id": "2af1dce9",
   "metadata": {},
   "outputs": [],
   "source": [
    "df2['Target'] = 1"
   ]
  },
  {
   "cell_type": "markdown",
   "id": "6e731dd9",
   "metadata": {},
   "source": [
    "# Our Final Dataset"
   ]
  },
  {
   "cell_type": "code",
   "execution_count": 16,
   "id": "7d3232a9",
   "metadata": {},
   "outputs": [
    {
     "data": {
      "text/html": [
       "<div>\n",
       "<style scoped>\n",
       "    .dataframe tbody tr th:only-of-type {\n",
       "        vertical-align: middle;\n",
       "    }\n",
       "\n",
       "    .dataframe tbody tr th {\n",
       "        vertical-align: top;\n",
       "    }\n",
       "\n",
       "    .dataframe thead th {\n",
       "        text-align: right;\n",
       "    }\n",
       "</style>\n",
       "<table border=\"1\" class=\"dataframe\">\n",
       "  <thead>\n",
       "    <tr style=\"text-align: right;\">\n",
       "      <th></th>\n",
       "      <th>Feature1</th>\n",
       "      <th>Feature2</th>\n",
       "      <th>Target</th>\n",
       "    </tr>\n",
       "  </thead>\n",
       "  <tbody>\n",
       "    <tr>\n",
       "      <th>0</th>\n",
       "      <td>1.196853</td>\n",
       "      <td>-1.485725</td>\n",
       "      <td>0</td>\n",
       "    </tr>\n",
       "    <tr>\n",
       "      <th>1</th>\n",
       "      <td>3.373411</td>\n",
       "      <td>0.364708</td>\n",
       "      <td>0</td>\n",
       "    </tr>\n",
       "    <tr>\n",
       "      <th>2</th>\n",
       "      <td>2.504202</td>\n",
       "      <td>-1.373232</td>\n",
       "      <td>0</td>\n",
       "    </tr>\n",
       "    <tr>\n",
       "      <th>3</th>\n",
       "      <td>1.137005</td>\n",
       "      <td>-1.651249</td>\n",
       "      <td>0</td>\n",
       "    </tr>\n",
       "    <tr>\n",
       "      <th>4</th>\n",
       "      <td>2.289732</td>\n",
       "      <td>-0.136599</td>\n",
       "      <td>0</td>\n",
       "    </tr>\n",
       "  </tbody>\n",
       "</table>\n",
       "</div>"
      ],
      "text/plain": [
       "   Feature1  Feature2  Target\n",
       "0  1.196853 -1.485725       0\n",
       "1  3.373411  0.364708       0\n",
       "2  2.504202 -1.373232       0\n",
       "3  1.137005 -1.651249       0\n",
       "4  2.289732 -0.136599       0"
      ]
     },
     "execution_count": 16,
     "metadata": {},
     "output_type": "execute_result"
    }
   ],
   "source": [
    "df = pd.concat([df1, df2])\n",
    "df.head()"
   ]
  },
  {
   "cell_type": "code",
   "execution_count": 17,
   "id": "38002e71",
   "metadata": {},
   "outputs": [
    {
     "data": {
      "image/png": "[encoded data removed]",
      "text/plain": [
       "<Figure size 432x288 with 1 Axes>"
      ]
     },
     "metadata": {
      "needs_background": "light"
     },
     "output_type": "display_data"
    }
   ],
   "source": [
    "plt.hist(df['Target'], bins='auto', edgecolor='black')\n",
    "plt.xlabel('Target')\n",
    "plt.ylabel('No')\n",
    "plt.grid()\n",
    "plt.show()"
   ]
  },
  {
   "cell_type": "markdown",
   "id": "29b6d30b",
   "metadata": {},
   "source": [
    "# Feature Set"
   ]
  },
  {
   "cell_type": "code",
   "execution_count": 18,
   "id": "997ffee3",
   "metadata": {},
   "outputs": [
    {
     "data": {
      "text/plain": [
       "Index(['Feature1', 'Feature2', 'Target'], dtype='object')"
      ]
     },
     "execution_count": 18,
     "metadata": {},
     "output_type": "execute_result"
    }
   ],
   "source": [
    "df.columns"
   ]
  },
  {
   "cell_type": "code",
   "execution_count": 19,
   "id": "ec23a87c",
   "metadata": {},
   "outputs": [
    {
     "data": {
      "text/plain": [
       "array([[ 1.1968526 , -1.48572451],\n",
       "       [ 3.37341113,  0.36470774],\n",
       "       [ 2.5042021 , -1.37323152],\n",
       "       [ 1.13700532, -1.65124924],\n",
       "       [ 2.28973199, -0.13659949]])"
      ]
     },
     "execution_count": 19,
     "metadata": {},
     "output_type": "execute_result"
    }
   ],
   "source": [
    "X = df[['Feature1', 'Feature2']].values\n",
    "X[0:5]"
   ]
  },
  {
   "cell_type": "code",
   "execution_count": 20,
   "id": "f6f35587",
   "metadata": {},
   "outputs": [
    {
     "data": {
      "text/plain": [
       "array([0, 0, 0, 0, 0], dtype=int64)"
      ]
     },
     "execution_count": 20,
     "metadata": {},
     "output_type": "execute_result"
    }
   ],
   "source": [
    "y = df['Target'].values\n",
    "y[0:5]"
   ]
  },
  {
   "cell_type": "markdown",
   "id": "9529a69d",
   "metadata": {},
   "source": [
    "# Preprocessing"
   ]
  },
  {
   "cell_type": "code",
   "execution_count": 21,
   "id": "3f8558ae",
   "metadata": {},
   "outputs": [
    {
     "data": {
      "text/plain": [
       "array([[ 1.02411461, -1.09313941],\n",
       "       [ 2.10519179,  0.24228705],\n",
       "       [ 1.67346343, -1.01195508],\n",
       "       [ 0.994389  , -1.21259588],\n",
       "       [ 1.56693804, -0.11949812]])"
      ]
     },
     "execution_count": 21,
     "metadata": {},
     "output_type": "execute_result"
    }
   ],
   "source": [
    "scaler = StandardScaler().fit(X)\n",
    "X = scaler.transform(X.astype(float))\n",
    "X[0:5]"
   ]
  },
  {
   "cell_type": "markdown",
   "id": "1ce168ab",
   "metadata": {},
   "source": [
    "# Train & Test Set"
   ]
  },
  {
   "cell_type": "code",
   "execution_count": 22,
   "id": "87d609de",
   "metadata": {},
   "outputs": [
    {
     "name": "stdout",
     "output_type": "stream",
     "text": [
      "Train set: (296, 2) (296,)\n",
      "Test set: (74, 2) (74,)\n"
     ]
    }
   ],
   "source": [
    "X_train, X_test, y_train, y_test = train_test_split(X, y, test_size=0.2, random_state=1)\n",
    "print('Train set:', X_train.shape, y_train.shape)\n",
    "print('Test set:', X_test.shape, y_test.shape)"
   ]
  },
  {
   "cell_type": "markdown",
   "id": "cdbba1b3",
   "metadata": {},
   "source": [
    "# KNN Classifier"
   ]
  },
  {
   "cell_type": "markdown",
   "id": "2c3f2c87",
   "metadata": {},
   "source": [
    "# Accuracy"
   ]
  },
  {
   "cell_type": "code",
   "execution_count": 23,
   "id": "ddfb719c",
   "metadata": {},
   "outputs": [
    {
     "data": {
      "text/plain": [
       "array([95.94594595, 97.2972973 , 98.64864865, 97.2972973 , 97.2972973 ,\n",
       "       97.2972973 , 97.2972973 , 97.2972973 , 98.64864865])"
      ]
     },
     "execution_count": 23,
     "metadata": {},
     "output_type": "execute_result"
    }
   ],
   "source": [
    "Ks = 10\n",
    "mean_acc = np.zeros(Ks-1)\n",
    "std_acc = np.zeros(Ks-1)\n",
    "\n",
    "for i in range(1, Ks):\n",
    "    model = KNeighborsClassifier(n_neighbors=i).fit(X_train, y_train)\n",
    "    ypred = model.predict(X_test)\n",
    "    mean_acc[i-1] = accuracy_score(y_test, ypred) * 100\n",
    "    \n",
    "    std_acc[i-1] = np.std(ypred==y_test)/np.sqrt(ypred.shape[0])\n",
    "\n",
    "mean_acc"
   ]
  },
  {
   "cell_type": "code",
   "execution_count": 24,
   "id": "56bbfb05",
   "metadata": {},
   "outputs": [
    {
     "name": "stdout",
     "output_type": "stream",
     "text": [
      "The best accuracy is : 98.64864864864865 with k : 3\n"
     ]
    }
   ],
   "source": [
    "print('The best accuracy is :', mean_acc.max(), 'with k :', mean_acc.argmax()+1)"
   ]
  },
  {
   "cell_type": "code",
   "execution_count": 25,
   "id": "6ee3bbf3",
   "metadata": {},
   "outputs": [
    {
     "data": {
      "image/png": "[encoded data removed]",
      "text/plain": [
       "<Figure size 432x288 with 1 Axes>"
      ]
     },
     "metadata": {
      "needs_background": "light"
     },
     "output_type": "display_data"
    }
   ],
   "source": [
    "plt.plot(range(1,Ks),mean_acc,'g')\n",
    "plt.fill_between(range(1,Ks),mean_acc - 1 * std_acc,mean_acc + 1 * std_acc, alpha=0.10)\n",
    "plt.fill_between(range(1,Ks),mean_acc - 3 * std_acc,mean_acc + 3 * std_acc, alpha=0.10,color=\"green\")\n",
    "plt.legend(('Accuracy ', '+/- 1xstd','+/- 3xstd'))\n",
    "plt.ylabel('Accuracy ')\n",
    "plt.xlabel('Number of Neighbors (K)')\n",
    "plt.tight_layout()\n",
    "plt.show()"
   ]
  },
  {
   "cell_type": "markdown",
   "id": "e6f27985",
   "metadata": {},
   "source": [
    "# Confusion Matrix"
   ]
  },
  {
   "cell_type": "code",
   "execution_count": 26,
   "id": "743ee6b8",
   "metadata": {},
   "outputs": [
    {
     "data": {
      "text/plain": [
       "array([[11,  0],\n",
       "       [ 1, 62]], dtype=int64)"
      ]
     },
     "execution_count": 26,
     "metadata": {},
     "output_type": "execute_result"
    }
   ],
   "source": [
    "c = confusion_matrix(y_test, ypred, labels=[0, 1])\n",
    "c"
   ]
  },
  {
   "cell_type": "markdown",
   "id": "07816523",
   "metadata": {},
   "source": [
    "# Classification Report"
   ]
  },
  {
   "cell_type": "markdown",
   "id": "3fa09a7d",
   "metadata": {},
   "source": [
    "# F1-score"
   ]
  },
  {
   "cell_type": "code",
   "execution_count": 27,
   "id": "99e1c469",
   "metadata": {},
   "outputs": [
    {
     "name": "stdout",
     "output_type": "stream",
     "text": [
      "              precision    recall  f1-score   support\n",
      "\n",
      "           0       0.92      1.00      0.96        11\n",
      "           1       1.00      0.98      0.99        63\n",
      "\n",
      "    accuracy                           0.99        74\n",
      "   macro avg       0.96      0.99      0.97        74\n",
      "weighted avg       0.99      0.99      0.99        74\n",
      "\n"
     ]
    }
   ],
   "source": [
    "rp = classification_report(y_test, ypred)\n",
    "print(rp)"
   ]
  },
  {
   "cell_type": "markdown",
   "id": "2fb29b5e",
   "metadata": {},
   "source": [
    "# SVM Classifier"
   ]
  },
  {
   "cell_type": "code",
   "execution_count": 28,
   "id": "1092a9c7",
   "metadata": {},
   "outputs": [
    {
     "data": {
      "text/plain": [
       "SVC()"
      ]
     },
     "execution_count": 28,
     "metadata": {},
     "output_type": "execute_result"
    }
   ],
   "source": [
    "clf = svm.SVC(kernel='rbf')         # Radial basis function \n",
    "clf = clf.fit(X_train, y_train)\n",
    "clf"
   ]
  },
  {
   "cell_type": "code",
   "execution_count": 29,
   "id": "90ddde89",
   "metadata": {},
   "outputs": [
    {
     "name": "stdout",
     "output_type": "stream",
     "text": [
      "[1 1 1 1 0]\n",
      "[1 1 1 1 0]\n"
     ]
    }
   ],
   "source": [
    "yhat = clf.predict(X_test)\n",
    "print(yhat[0:5])\n",
    "print(y_test[0:5])"
   ]
  },
  {
   "cell_type": "markdown",
   "id": "9584056b",
   "metadata": {},
   "source": [
    "# Accuracy"
   ]
  },
  {
   "cell_type": "code",
   "execution_count": 30,
   "id": "c70a3fdc",
   "metadata": {},
   "outputs": [
    {
     "name": "stdout",
     "output_type": "stream",
     "text": [
      "Train Set Accuracy is : 97.2972972972973\n",
      "Test Set Accuracy is : 97.2972972972973\n"
     ]
    }
   ],
   "source": [
    "print('Train Set Accuracy is :', accuracy_score(y_train, clf.predict(X_train)) * 100)\n",
    "print('Test Set Accuracy is :', accuracy_score(y_test, yhat) * 100)"
   ]
  },
  {
   "cell_type": "markdown",
   "id": "3d5f36dd",
   "metadata": {},
   "source": [
    "# Confusion Matrix"
   ]
  },
  {
   "cell_type": "code",
   "execution_count": 31,
   "id": "1758a75c",
   "metadata": {},
   "outputs": [
    {
     "data": {
      "text/plain": [
       "array([[11,  0],\n",
       "       [ 2, 61]], dtype=int64)"
      ]
     },
     "execution_count": 31,
     "metadata": {},
     "output_type": "execute_result"
    }
   ],
   "source": [
    "confusion_matrix(y_test, yhat, labels=[0, 1])"
   ]
  },
  {
   "cell_type": "markdown",
   "id": "fd92c97e",
   "metadata": {},
   "source": [
    "# Classification Report"
   ]
  },
  {
   "cell_type": "markdown",
   "id": "93a8e0b1",
   "metadata": {},
   "source": [
    "# F1-score"
   ]
  },
  {
   "cell_type": "code",
   "execution_count": 32,
   "id": "f2b0fac5",
   "metadata": {},
   "outputs": [
    {
     "name": "stdout",
     "output_type": "stream",
     "text": [
      "              precision    recall  f1-score   support\n",
      "\n",
      "           0       0.85      1.00      0.92        11\n",
      "           1       1.00      0.97      0.98        63\n",
      "\n",
      "    accuracy                           0.97        74\n",
      "   macro avg       0.92      0.98      0.95        74\n",
      "weighted avg       0.98      0.97      0.97        74\n",
      "\n"
     ]
    }
   ],
   "source": [
    "rp = classification_report(y_test, yhat)\n",
    "print(rp)"
   ]
  }
 ],
 "metadata": {
  "kernelspec": {
   "display_name": "Python 3 (ipykernel)",
   "language": "python",
   "name": "python3"
  },
  "language_info": {
   "codemirror_mode": {
    "name": "ipython",
    "version": 3
   },
   "file_extension": ".py",
   "mimetype": "text/x-python",
   "name": "python",
   "nbconvert_exporter": "python",
   "pygments_lexer": "ipython3",
   "version": "3.9.13"
  }
 },
 "nbformat": 4,
 "nbformat_minor": 5
}
